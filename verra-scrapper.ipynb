{
 "cells": [
  {
   "cell_type": "code",
   "execution_count": 1,
   "id": "7b74a49e-d775-4689-b970-12c13d6e4dda",
   "metadata": {},
   "outputs": [],
   "source": [
    "import json\n",
    "import random\n",
    "import time\n",
    "from urllib.parse import quote"
   ]
  },
  {
   "cell_type": "code",
   "execution_count": 2,
   "id": "a2fda506-f3dc-40e6-ac73-db706ca4041c",
   "metadata": {},
   "outputs": [
    {
     "name": "stdout",
     "output_type": "stream",
     "text": [
      "Requirement already satisfied: selenium in ./venv/lib/python3.12/site-packages (4.27.1)\n",
      "Requirement already satisfied: urllib3<3,>=1.26 in ./venv/lib/python3.12/site-packages (from urllib3[socks]<3,>=1.26->selenium) (2.3.0)\n",
      "Requirement already satisfied: trio~=0.17 in ./venv/lib/python3.12/site-packages (from selenium) (0.28.0)\n",
      "Requirement already satisfied: trio-websocket~=0.9 in ./venv/lib/python3.12/site-packages (from selenium) (0.11.1)\n",
      "Requirement already satisfied: certifi>=2021.10.8 in ./venv/lib/python3.12/site-packages (from selenium) (2024.12.14)\n",
      "Requirement already satisfied: typing_extensions~=4.9 in ./venv/lib/python3.12/site-packages (from selenium) (4.12.2)\n",
      "Requirement already satisfied: websocket-client~=1.8 in ./venv/lib/python3.12/site-packages (from selenium) (1.8.0)\n",
      "Requirement already satisfied: attrs>=23.2.0 in ./venv/lib/python3.12/site-packages (from trio~=0.17->selenium) (24.3.0)\n",
      "Requirement already satisfied: sortedcontainers in ./venv/lib/python3.12/site-packages (from trio~=0.17->selenium) (2.4.0)\n",
      "Requirement already satisfied: idna in ./venv/lib/python3.12/site-packages (from trio~=0.17->selenium) (3.10)\n",
      "Requirement already satisfied: outcome in ./venv/lib/python3.12/site-packages (from trio~=0.17->selenium) (1.3.0.post0)\n",
      "Requirement already satisfied: sniffio>=1.3.0 in ./venv/lib/python3.12/site-packages (from trio~=0.17->selenium) (1.3.1)\n",
      "Requirement already satisfied: wsproto>=0.14 in ./venv/lib/python3.12/site-packages (from trio-websocket~=0.9->selenium) (1.2.0)\n",
      "Requirement already satisfied: pysocks!=1.5.7,<2.0,>=1.5.6 in ./venv/lib/python3.12/site-packages (from urllib3[socks]<3,>=1.26->selenium) (1.7.1)\n",
      "Requirement already satisfied: h11<1,>=0.9.0 in ./venv/lib/python3.12/site-packages (from wsproto>=0.14->trio-websocket~=0.9->selenium) (0.14.0)\n"
     ]
    }
   ],
   "source": [
    "!pip install selenium\n",
    "\n",
    "from selenium import webdriver\n",
    "from selenium.common.exceptions import NoSuchElementException, TimeoutException\n",
    "from selenium.webdriver.common.by import By\n",
    "from selenium.webdriver.support import expected_conditions as EC\n",
    "from selenium.webdriver.support.ui import WebDriverWait"
   ]
  },
  {
   "cell_type": "code",
   "execution_count": 16,
   "id": "c2c65a00-cdd0-475d-99a2-e1b28596afb1",
   "metadata": {},
   "outputs": [
    {
     "name": "stdout",
     "output_type": "stream",
     "text": [
      "Requirement already satisfied: fake_useragent in ./venv/lib/python3.12/site-packages (2.0.3)\n"
     ]
    }
   ],
   "source": [
    "!pip install fake_useragent\n",
    "\n",
    "from fake_useragent import UserAgent\n",
    "from collections import defaultdict"
   ]
  },
  {
   "cell_type": "code",
   "execution_count": 17,
   "id": "3bfda86b-2db4-4019-b588-3cc2b36500a3",
   "metadata": {},
   "outputs": [],
   "source": [
    "def setup_chrome_driver():\n",
    "    ua = UserAgent()\n",
    "    user_agent = ua.random\n",
    "    print(user_agent)\n",
    "\n",
    "    PATH = '/usr/local/bin/chromedriver'\n",
    "    service = webdriver.ChromeService(executable_path=PATH)\n",
    "\n",
    "    options = webdriver.ChromeOptions()\n",
    "    # options.add_argument(f\"--user-agent={user_agent}\")\n",
    "    options.add_argument(\"/home/swayam/.config/google-chrome/Default\")\n",
    "    options.add_argument(\"--start-maximized\")\n",
    "    options.add_argument(\"--disable-blink-features=AutomationControlled\")\n",
    "    options.add_experimental_option(\"excludeSwitches\", [\"enable-automation\"])\n",
    "    options.add_experimental_option(\"useAutomationExtension\", False)\n",
    "\n",
    "    driver = webdriver.Chrome(service=service, options=options, keep_alive=True)\n",
    "\n",
    "    return driver"
   ]
  },
  {
   "cell_type": "code",
   "execution_count": 18,
   "id": "b115daf2-bc9d-48c4-83d2-f7b96d7fdcb6",
   "metadata": {},
   "outputs": [],
   "source": [
    "\n",
    "def setup_firefox_driver():\n",
    "    \"\"\"\n",
    "    Set up and return the FireFox WebDriver\n",
    "    \"\"\"\n",
    "\n",
    "    ua = UserAgent()\n",
    "    user_agent = ua.random\n",
    "    print(user_agent)\n",
    "\n",
    "    # For using Firefox\n",
    "    PATH = \"/usr/local/bin/geckodriver\"\n",
    "    service = webdriver.FirefoxService(executable_path=PATH)\n",
    "\n",
    "    options = webdriver.FirefoxOptions()\n",
    "    options.add_argument(\"/home/swayam/.config/google-chrome/Default\")\n",
    "    options.add_argument(\"--start-maximized\")\n",
    "    options.add_argument(\"--disable-blink-features=AutomationControlled\")\n",
    "\n",
    "    driver = webdriver.Chrome(service=service, options=options, keep_alive=True)\n",
    "\n",
    "    return driver\n"
   ]
  },
  {
   "cell_type": "code",
   "execution_count": 11,
   "id": "ea003150-d3eb-4411-a028-8b53e0229790",
   "metadata": {},
   "outputs": [
    {
     "name": "stdout",
     "output_type": "stream",
     "text": [
      "Mozilla/5.0 (iPhone; CPU iPhone OS 18_0_1 like Mac OS X) AppleWebKit/605.1.15 (KHTML, like Gecko) Version/18.0.1 Mobile/15E148 Safari/604.1\n"
     ]
    }
   ],
   "source": [
    "driver = setup_chrome_driver()"
   ]
  },
  {
   "cell_type": "code",
   "execution_count": 12,
   "id": "ca53f8f8-8394-4cd9-bf7a-5a4c4b17370c",
   "metadata": {},
   "outputs": [],
   "source": [
    "project_id = 5401\n",
    "url = f\"https://registry.verra.org/app/projectDetail/VCS/{project_id}\"\n",
    "driver.get(url)"
   ]
  },
  {
   "cell_type": "code",
   "execution_count": 15,
   "id": "b37601c1-d1aa-4bdf-ac6d-cbc2fc292f89",
   "metadata": {},
   "outputs": [],
   "source": [
    "{\n",
    "  \"project\": {\n",
    "    \"id\": \"5401\",\n",
    "    \"title\": \"Regenerating Landscapes: Smallholder Farmers Agroforestry Initiative in Tamil Nadu, India\",\n",
    "    \"description\": \"The project aims to restore and revitalize 20,000 hectares of degraded agricultural land...\",\n",
    "    \"summary\": {\n",
    "      \"state\": \"Tamil Nadu\",\n",
    "      \"vcs\": {\n",
    "        \"proponent\": \"Multiple Proponents\",\n",
    "        \"status\": \"Under development\",\n",
    "        \"estimatedAnnualEmissionReductions\": 424726,\n",
    "        \"projectType\": \"Agriculture Forestry and Other Land Use\",\n",
    "        \"afoluActivity\": \"ARR\",\n",
    "        \"methodology\": \"VM0047\",\n",
    "        \"area\": {\n",
    "            \"value\": 20000,\n",
    "            \"unit\": \"Hectares\"\n",
    "        },\n",
    "        \"creditingPeriod\": {\n",
    "            \"term\": \"1st\",\n",
    "            \"startDate\": \"2024-12-19\",\n",
    "            \"endDate\": \"2058-12-18\"\n",
    "        }\n",
    "      }\n",
    "    },\n",
    "\n",
    "    \"documents\": {\n",
    "      \"pipeline\": [\n",
    "        {\n",
    "          \"name\": \"VCS PD DRAFT _5401 _26122024.pdf\",\n",
    "          \"url\": \"https://registry.verra.org/mymodule/ProjectDoc/Project_ViewFile.asp?FileID=125128\",\n",
    "          \"dateUpdated\": \"2024-12-26\"\n",
    "        }\n",
    "      ],\n",
    "      \"registration\": [],\n",
    "      \"issuance\": [],\n",
    "      \"other\": [\n",
    "        {\n",
    "          \"name\": \"Verra-Registry-Communications-Agreement-multiple-PPs_5401_v1_signed by all.pdf\",\n",
    "          \"url\": \"https://registry.verra.org/mymodule/ProjectDoc/Project_ViewFile.asp?FileID=126055\",\n",
    "          \"dateUpdated\": \"2025-01-15\"\n",
    "        }\n",
    "      ]\n",
    "    }\n",
    "  }\n",
    "}"
   ]
  },
  {
   "cell_type": "code",
   "execution_count": 21,
   "id": "4a4f7f1d-b99d-4285-8f08-7f24e6e45936",
   "metadata": {},
   "outputs": [
    {
     "name": "stdout",
     "output_type": "stream",
     "text": [
      "REGENERATING LANDSCAPES: SMALLHOLDER FARMERS AGROFORESTRY INITIATIVE IN TAMIL NADU, INDIA\n"
     ]
    }
   ],
   "source": [
    "def get_project_title(driver: webdriver.Chrome):\n",
    "    title = driver.find_element(by=By.CLASS_NAME, value=\"card-header\")\n",
    "\n",
    "    return title.text\n",
    "\n",
    "print(get_project_title(driver))"
   ]
  },
  {
   "cell_type": "code",
   "execution_count": 22,
   "id": "1698d541-6edb-4459-a655-25e0bb95477c",
   "metadata": {},
   "outputs": [
    {
     "name": "stdout",
     "output_type": "stream",
     "text": [
      "The project aims to restore and revitalize 20,000 hectares of degraded agricultural land privately owned by marginal and smallholder farmers, empowering them to adopt diverse, native agroforestry systems. These systems are designed to address both ecological and economic challenges in the region, fostering long-term resilience and sustainability. Key interventions include training farmers in regenerative, climate-resilient agroforestry and agriculture practices tailored to the tropical dryland ecosystem. This involves providing access to high-value saplings of commercial fruit trees, timber species, and non-timber forest products, carefully selected to optimize carbon sequestration and enhance vital ecosystem services such as biodiversity restoration, soil health improvement, and water retention. To combat decades of soil degradation caused by unsustainable monoculture farming, the project will implement advanced soil revitalization techniques. These include the integration of biochar to improve soil fertility, increase organic carbon content, and enhance long-term productivity. Regenerative agricultural practices, such as cover cropping and composting, will also be promoted to restore soil health, increase organic matter, and prevent erosion. Biochar application will complement these efforts by enhancing water retention and nutrient efficiency, critical for this drought-prone region. Beyond ecological restoration, the project aims to uplift the socio-economic well-being of farmers. By diversifying income streams through the production of high-value horticulture crops, and other NTFP products, the project seeks to significantly increase farmers' annual incomes. Additionally, training programs and capacity-building initiatives will equip farmers with the skills and knowledge necessary to adopt and sustain regenerative agroforestry and agriculture practices, creating a replicable model for large-scale landscape restoration.\n"
     ]
    }
   ],
   "source": [
    "def get_project_description(driver: webdriver.Chrome):\n",
    "    title = driver.find_element(by=By.CLASS_NAME, value=\"card-text\")\n",
    "\n",
    "    return title.text\n",
    "\n",
    "print(get_project_description(driver))"
   ]
  },
  {
   "cell_type": "code",
   "execution_count": 32,
   "id": "fbc2392b-58f8-47d4-8300-21253245500b",
   "metadata": {},
   "outputs": [
    {
     "name": "stdout",
     "output_type": "stream",
     "text": [
      "{\n",
      "    \"state\": \"Tamil Nadu\",\n",
      "    \"vcs\": {\n",
      "        \"proponent\": \"Multiple Proponents\",\n",
      "        \"status\": \"Under development\",\n",
      "        \"estimatedAnnualEmissionReductions\": 424726,\n",
      "        \"projectType\": \"Agriculture Forestry and Other Land Use\",\n",
      "        \"afoluActivity\": \"ARR\",\n",
      "        \"methodology\": \"VM0047\",\n",
      "        \"area\": {\n",
      "            \"value\": 20000,\n",
      "            \"unit\": \"Hectares\"\n",
      "        },\n",
      "        \"creditingPeriod\": {\n",
      "            \"term\": \"1st\",\n",
      "            \"startDate\": \"19/12/2024\",\n",
      "            \"endDate\": \"18/12/2058\"\n",
      "        }\n",
      "    }\n",
      "}\n"
     ]
    }
   ],
   "source": [
    "def get_project_description(driver: webdriver.Chrome):\n",
    "    summary = defaultdict()\n",
    "    summary[[\n",
    "    summary[\"state\"] = driver.find_element(by=By.CSS_SELECTOR, value=\"tr.attr-row:nth-child(4)\").text\n",
    "\n",
    "    vcs = defaultdict(str)\n",
    "\n",
    "    vcs[\"proponent\"] = driver.find_element(by=By.CSS_SELECTOR, value=\"tr.attr-row:nth-child(3)\").text\n",
    "    \n",
    "    vcs[\"status\"] = driver.find_element(by=By.CSS_SELECTOR, value=\"tr.attr-row:nth-child(5)\").text\n",
    "\n",
    "    vcs[\"estimatedAnnualEmissionReductions\"] = int(driver.find_element(by=By.CSS_SELECTOR, value=\"tr.attr-row:nth-child(7)\").text)\n",
    "\n",
    "    vcs[\"projectType\"] = driver.find_element(by=By.CSS_SELECTOR, value=\"tr.attr-row:nth-child(9)\").text\n",
    "\n",
    "    vcs[\"afoluActivity\"] = driver.find_element(by=By.CSS_SELECTOR, value=\"tr.attr-row:nth-child(11)\").text\n",
    "    vcs[\"methodology\"] = driver.find_element(by=By.CSS_SELECTOR, value=\"tr.attr-row:nth-child(13)\").text\n",
    "\n",
    "    areaWithUnits = driver.find_element(by=By.CSS_SELECTOR, value=\"tr.attr-row:nth-child(15)\").text\n",
    "\n",
    "    value = int(areaWithUnits[: areaWithUnits.find(\" \")])\n",
    "    unit = areaWithUnits[areaWithUnits.find(\" \")+1 : ]\n",
    "\n",
    "    area = defaultdict(str)\n",
    "    area[\"value\"] = value\n",
    "    area[\"unit\"] = unit\n",
    "\n",
    "    vcs[\"area\"] = area\n",
    "\n",
    "    cp = driver.find_element(by=By.CSS_SELECTOR, value=\"tr.attr-row:nth-child(17)\").text\n",
    "\n",
    "    term = cp[: cp.find(\",\")]\n",
    "    startDate = cp[cp.find(\",\")+1 : cp.find(\"-\")].strip()\n",
    "    endDate = cp[cp.find(\"-\")+1 : ].strip()\n",
    "\n",
    "    creditingPeriod = defaultdict(str)\n",
    "    creditingPeriod[\"term\"] = term\n",
    "    creditingPeriod[\"startDate\"] = startDate\n",
    "    creditingPeriod[\"endDate\"] = endDate\n",
    "\n",
    "    vcs[\"creditingPeriod\"] = creditingPeriod\n",
    "\n",
    "    summary[\"vcs\"] = vcs\n",
    "\n",
    "    return summary\n",
    "\n",
    "j = json.dumps(get_project_description(driver), indent=4)\n",
    "print(j)"
   ]
  },
  {
   "cell_type": "code",
   "execution_count": null,
   "id": "8dc18467-a4a1-4526-a566-a1b241718584",
   "metadata": {},
   "outputs": [],
   "source": [
    "project = defaultdict(str)\n",
    "\n",
    "project[\"id\"] = str(project_id)\n",
    "project[\"title\"] = get_project_title()\n",
    "project[\"description\"] = get_project_description()\n",
    "project[\"summary\"] = get_project_summary()\n",
    "project[\"documents\"] = get_project_documents()"
   ]
  },
  {
   "cell_type": "code",
   "execution_count": null,
   "id": "ee62d74a-419b-4e97-bed1-72bc038d789b",
   "metadata": {},
   "outputs": [],
   "source": []
  }
 ],
 "metadata": {
  "kernelspec": {
   "display_name": "Python 3 (ipykernel)",
   "language": "python",
   "name": "python3"
  },
  "language_info": {
   "codemirror_mode": {
    "name": "ipython",
    "version": 3
   },
   "file_extension": ".py",
   "mimetype": "text/x-python",
   "name": "python",
   "nbconvert_exporter": "python",
   "pygments_lexer": "ipython3",
   "version": "3.12.3"
  }
 },
 "nbformat": 4,
 "nbformat_minor": 5
}
